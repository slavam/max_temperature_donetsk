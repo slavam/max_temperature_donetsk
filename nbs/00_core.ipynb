{
 "cells": [
  {
   "cell_type": "markdown",
   "metadata": {},
   "source": [
    "# Прогноз максимальной суточной температуры воздуха в Донецке\n",
    "\n",
    "> Прогноз делается на основании синоптической телеграммы за текущий срок"
   ]
  },
  {
   "cell_type": "code",
   "execution_count": null,
   "metadata": {},
   "outputs": [],
   "source": [
    "#| default_exp core"
   ]
  },
  {
   "cell_type": "code",
   "execution_count": null,
   "metadata": {},
   "outputs": [
    {
     "name": "stderr",
     "output_type": "stream",
     "text": [
      "/home/slavam/my_python/environments/my_env/lib/python3.8/site-packages/fastprogress/fastprogress.py:107: UserWarning: Couldn't import ipywidgets properly, progress bar will use console behavior\n",
      "  warn(\"Couldn't import ipywidgets properly, progress bar will use console behavior\")\n",
      "2023-10-04 10:43:34.887702: I tensorflow/core/platform/cpu_feature_guard.cc:182] This TensorFlow binary is optimized to use available CPU instructions in performance-critical operations.\n",
      "To enable the following instructions: FMA, in other operations, rebuild TensorFlow with the appropriate compiler flags.\n",
      "2023-10-04 10:43:42.612232: W tensorflow/compiler/tf2tensorrt/utils/py_utils.cc:38] TF-TRT Warning: Could not find TensorRT\n"
     ]
    }
   ],
   "source": [
    "#| hide\n",
    "from nbdev.showdoc import *\n",
    "import numpy as np\n",
    "import tensorflow as tf\n",
    "from datetime import datetime\n",
    "import time\n",
    "import ipywidgets as widgets\n",
    "from ipywidgets import VBox"
   ]
  },
  {
   "cell_type": "code",
   "execution_count": null,
   "metadata": {},
   "outputs": [
    {
     "data": {
      "application/vnd.jupyter.widget-view+json": {
       "model_id": "4a4584534644430fbad337674491618c",
       "version_major": 2,
       "version_minor": 0
      },
      "text/plain": [
       "VBox(children=(Label(value='Прогноз махсимальной температуры в Донецке'), Text(value='', description='Последня…"
      ]
     },
     "execution_count": null,
     "metadata": {},
     "output_type": "execute_result"
    }
   ],
   "source": [
    "#| hide\n",
    "def prepare_data(date_term, telegram, model_name):\n",
    "  ret = []\n",
    "  # if model_name != 'improve_dnn_model_3':\n",
    "  #     ret.append(float(telegram[14:15]+'.')) # cloud_height\n",
    "  #     ret.append(int(telegram[16:17])) # visibility_range\n",
    "  ret.append(int(telegram[18:19])) # cloud_amount\n",
    "  sign = ''\n",
    "  if telegram[25:26] == '1':\n",
    "    sign = '-'\n",
    "  ret.append(float(sign+telegram[26:28]+'.'+telegram[28:29]))# temperature\n",
    "  sign = ''\n",
    "  if telegram[31:32] == '1':\n",
    "    sign = '-'\n",
    "  ret.append(float(sign+telegram[32:34]+'.'+telegram[34:35]))# temperature_dew\n",
    "  p1 = '1'\n",
    "  if telegram[37:38] != '0':\n",
    "    p1 = ''\n",
    "  ret.append(float(p1+telegram[37:40]+'.'+telegram[40:41]))# pressure\n",
    "  ret.append(float(telegram[49:50]+'.'))#  pressure_tendency\n",
    "  ret.append(float(telegram[50:52]+'.'+telegram[52:53]))# pressure_tendency_value\n",
    "  wv = float(telegram[21:23]+'.')\n",
    "  wd_rad = int(telegram[19:21])*10*np.pi/180\n",
    "  ret.append(wv*np.cos(wd_rad)) # Wx\n",
    "  ret.append(wv*np.sin(wd_rad)) # Wy\n",
    "  d = datetime.strptime(date_term, \"%Y-%m-%d %H:%M:%S\")\n",
    "  s = time.mktime(d.timetuple())\n",
    "  day = 24*60*60\n",
    "  year = (365.2425)*day\n",
    "  ret.append(np.sin(s * (2 * np.pi / day)))\n",
    "  ret.append(np.cos(s * (2 * np.pi / day)))\n",
    "  ret.append(np.sin(s * (2 * np.pi / year)))\n",
    "  ret.append(np.cos(s * (2 * np.pi / year))) #Day sin \tDay cos \tYear sin \tYear cos\n",
    "  telegram = [ret]\n",
    "  # print(str(ret[:12]))\n",
    "  model = tf.keras.models.load_model(model_name)\n",
    "  predict_temperature = model.predict(telegram).flatten()[0]\n",
    "  \n",
    "  return predict_temperature\n",
    "now = datetime.utcnow()\n",
    "d_t = now.strftime('%Y-%m-%d')\n",
    "d_t += ' '+\"{:02d}\".format(int(now.hour / 3) * 3)+':00:00'\n",
    "telegram = widgets.Text(\n",
    "    value='',\n",
    "    placeholder='Type something',\n",
    "    description='Последняя телеграмма:',\n",
    "    disabled=False,\n",
    "    style={'description_width': 'initial'},\n",
    "    layout = widgets.Layout(width='800px')\n",
    ")\n",
    "def on_click_classify(change):\n",
    "    max_temperature = prepare_data(d_t, telegram.value, 'improve_dnn_model_3')\n",
    "    lbl_pred.value = f'Максимальная температура в Донецке за день {d_t[:10]} ожидается {str(round(max_temperature,2))}'\n",
    "btn_run = widgets.Button(description='Сделать прогноз')\n",
    "btn_run.on_click(on_click_classify)\n",
    "lbl_pred = widgets.Label()\n",
    "VBox([widgets.Label('Прогноз махсимальной температуры в Донецке'), telegram, btn_run, lbl_pred])"
   ]
  },
  {
   "cell_type": "code",
   "execution_count": null,
   "metadata": {},
   "outputs": [],
   "source": [
    "#| export\n",
    "def foo(): pass"
   ]
  },
  {
   "cell_type": "code",
   "execution_count": null,
   "metadata": {},
   "outputs": [],
   "source": [
    "#| hide\n",
    "import nbdev; nbdev.nbdev_export()"
   ]
  }
 ],
 "metadata": {
  "kernelspec": {
   "display_name": "python3",
   "language": "python",
   "name": "python3"
  }
 },
 "nbformat": 4,
 "nbformat_minor": 4
}
