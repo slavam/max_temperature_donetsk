{
 "cells": [
  {
   "cell_type": "code",
   "execution_count": null,
   "metadata": {},
   "outputs": [],
   "source": [
    "#| hide\n",
    "from max_temperature_donetsk.core import *"
   ]
  },
  {
   "cell_type": "markdown",
   "metadata": {},
   "source": [
    "# max_temperature_donetsk\n",
    "\n",
    "> Прогноз максимальной температуры воздуха за сутки в Донецке на основании синоптической телеграммы за текущий срок"
   ]
  },
  {
   "cell_type": "markdown",
   "metadata": {},
   "source": [
    "This file will become your README and also the index of your documentation."
   ]
  },
  {
   "cell_type": "markdown",
   "metadata": {},
   "source": [
    "## Установка"
   ]
  },
  {
   "cell_type": "markdown",
   "metadata": {},
   "source": [
    "```sh\n",
    "pip install max_temperature_donetsk\n",
    "```"
   ]
  },
  {
   "cell_type": "markdown",
   "metadata": {},
   "source": [
    "## Использование"
   ]
  },
  {
   "cell_type": "markdown",
   "metadata": {},
   "source": [
    "Поместите во входное поле (введите или вставьте из буфера) донецкую синоптическую телеграмму за текущий срок и нажмите кнопку 'Сделать прогноз'"
   ]
  }
 ],
 "metadata": {
  "kernelspec": {
   "display_name": "python3",
   "language": "python",
   "name": "python3"
  }
 },
 "nbformat": 4,
 "nbformat_minor": 4
}
